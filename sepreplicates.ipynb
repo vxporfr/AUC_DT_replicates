{
 "cells": [
  {
   "cell_type": "code",
   "execution_count": 10,
   "id": "891083be",
   "metadata": {
    "vscode": {
     "languageId": "r"
    }
   },
   "outputs": [
    {
     "name": "stdout",
     "output_type": "stream",
     "text": [
      "                         Column      AUC DoublingTime\n",
      "time_vals       D1 Rep1 Average 19.41521     3.383633\n",
      "time_vals1     D1 Rep 2 Average 19.10932     2.979688\n",
      "time_vals2     D1 Rep 3 Average 19.57633     2.877215\n",
      "time_vals3     AE2 Rep1 Average 15.41025     3.021794\n",
      "time_vals4     AE2 Rep2 Average 14.71322     3.163587\n",
      "time_vals5     AE2 Rep3 Average 15.20122     3.348050\n",
      "time_vals6     110 Rep1 Average 15.84185     3.894459\n",
      "time_vals7     110 Rep2 Average 11.67468     2.429639\n",
      "time_vals8     110 Rep3 Average 14.38459     2.750515\n",
      "time_vals9     111 Rep1 Average 17.34116     3.455855\n",
      "time_vals10    111 Rep2 Average 12.96821     2.466949\n",
      "time_vals11    111 Rep3 Average 15.16690     2.633706\n",
      "time_vals12    112 Rep1 Average 13.88328     2.511881\n",
      "time_vals13    112 Rep2 Average 16.43176     2.505138\n",
      "time_vals14 CBS138 Rep1 Average       NA     4.464452\n",
      "time_vals15 CBS138 Rep2 Average       NA     2.788375\n",
      "time_vals16 CBS138 Rep3 Average 15.89303     3.265279\n",
      "time_vals17 CBS138 Rep4 Average 14.61554     3.139076\n",
      "time_vals18 CBS138 Rep5 Average 13.01876     2.512438\n",
      "time_vals19 CBS138 Rep6 Average 15.12419     2.170283\n",
      "time_vals20    BG2 Rep1 Average       NA     5.105184\n",
      "time_vals21    BG2 Rep2 Average 20.20965     3.215370\n",
      "time_vals22    BG2 Rep3 Average 21.25850     3.353129\n",
      "time_vals23    BG2 Rep4 Average 21.03590     3.351648\n",
      "time_vals24    BG2 Rep5 Average 16.84749     2.577572\n"
     ]
    }
   ],
   "source": [
    "# Load necessary libraries\n",
    "library(readxl)\n",
    "library(pracma)  # for trapz()\n",
    "\n",
    "# Read the Excel file\n",
    "data <- read_excel(\"prcsd_trial2.xlsx\")\n",
    "\n",
    "time <- data[[1]]\n",
    "\n",
    "# Function to calculate doubling time from a vector of values\n",
    "calc_doubling_time <- function(time, values) {\n",
    "  # Filter out NA and zero or negative values for log calculation\n",
    "  valid_idx <- which(!is.na(values) & values > 0)\n",
    "  if(length(valid_idx) < 2) return(NA)\n",
    "  \n",
    "  log_values <- log(values[valid_idx])\n",
    "  time_vals <- time[valid_idx]\n",
    "  \n",
    "  # Linear regression on log-transformed data to find growth rate\n",
    "  fit <- lm(log_values ~ time_vals)\n",
    "  rate <- coef(fit)[2]\n",
    "  \n",
    "  if(rate <= 0) return(NA)\n",
    "  \n",
    "  doubling_time <- log(2) / rate\n",
    "  return(doubling_time)\n",
    "}\n",
    "\n",
    "# Loop through columns (excluding time)\n",
    "results <- data.frame(Column = character(), AUC = numeric(), DoublingTime = numeric(), stringsAsFactors=FALSE)\n",
    "\n",
    "for (colname in names(data)[-1]) {\n",
    "  values <- data[[colname]]\n",
    "  # Calculate AUC using trapezoidal rule\n",
    "  auc <- tryCatch({\n",
    "    trapz(time, values)\n",
    "  }, error = function(e) NA)\n",
    "  \n",
    "  # Calculate doubling time\n",
    "  dt <- calc_doubling_time(time, values)\n",
    "  \n",
    "  results <- rbind(results, data.frame(Column = colname, AUC = auc, DoublingTime = dt))\n",
    "}\n",
    "\n",
    "print(results)\n",
    "write.csv(results, \"growth_summary.csv\", row.names = FALSE)"
   ]
  },
  {
   "cell_type": "code",
   "execution_count": null,
   "id": "2e451210",
   "metadata": {
    "vscode": {
     "languageId": "r"
    }
   },
   "outputs": [
    {
     "data": {
      "text/html": [
       "<table class=\"dataframe\">\n",
       "<caption>A tibble: 6 × 4</caption>\n",
       "<thead>\n",
       "\t<tr><th scope=col>Time</th><th scope=col>CBS138 Rep1 Average</th><th scope=col>CBS138 Rep2 Average</th><th scope=col>BG2 Rep1 Average</th></tr>\n",
       "\t<tr><th scope=col>&lt;dbl&gt;</th><th scope=col>&lt;dbl&gt;</th><th scope=col>&lt;dbl&gt;</th><th scope=col>&lt;dbl&gt;</th></tr>\n",
       "</thead>\n",
       "<tbody>\n",
       "\t<tr><td>22.00000</td><td>0.9955988</td><td>1.012875</td><td>1.154725</td></tr>\n",
       "\t<tr><td>22.33334</td><td>0.9945988</td><td>1.013125</td><td>1.155217</td></tr>\n",
       "\t<tr><td>22.66667</td><td>0.9931988</td><td>1.012625</td><td>1.155567</td></tr>\n",
       "\t<tr><td>23.00000</td><td>0.9919988</td><td>1.012500</td><td>1.155558</td></tr>\n",
       "\t<tr><td>23.33334</td><td>1.0117500</td><td>1.011750</td><td>1.230187</td></tr>\n",
       "\t<tr><td>23.66667</td><td>1.0112500</td><td>1.011250</td><td>1.232063</td></tr>\n",
       "</tbody>\n",
       "</table>\n"
      ],
      "text/latex": [
       "A tibble: 6 × 4\n",
       "\\begin{tabular}{llll}\n",
       " Time & CBS138 Rep1 Average & CBS138 Rep2 Average & BG2 Rep1 Average\\\\\n",
       " <dbl> & <dbl> & <dbl> & <dbl>\\\\\n",
       "\\hline\n",
       "\t 22.00000 & 0.9955988 & 1.012875 & 1.154725\\\\\n",
       "\t 22.33334 & 0.9945988 & 1.013125 & 1.155217\\\\\n",
       "\t 22.66667 & 0.9931988 & 1.012625 & 1.155567\\\\\n",
       "\t 23.00000 & 0.9919988 & 1.012500 & 1.155558\\\\\n",
       "\t 23.33334 & 1.0117500 & 1.011750 & 1.230187\\\\\n",
       "\t 23.66667 & 1.0112500 & 1.011250 & 1.232063\\\\\n",
       "\\end{tabular}\n"
      ],
      "text/markdown": [
       "\n",
       "A tibble: 6 × 4\n",
       "\n",
       "| Time &lt;dbl&gt; | CBS138 Rep1 Average &lt;dbl&gt; | CBS138 Rep2 Average &lt;dbl&gt; | BG2 Rep1 Average &lt;dbl&gt; |\n",
       "|---|---|---|---|\n",
       "| 22.00000 | 0.9955988 | 1.012875 | 1.154725 |\n",
       "| 22.33334 | 0.9945988 | 1.013125 | 1.155217 |\n",
       "| 22.66667 | 0.9931988 | 1.012625 | 1.155567 |\n",
       "| 23.00000 | 0.9919988 | 1.012500 | 1.155558 |\n",
       "| 23.33334 | 1.0117500 | 1.011750 | 1.230187 |\n",
       "| 23.66667 | 1.0112500 | 1.011250 | 1.232063 |\n",
       "\n"
      ],
      "text/plain": [
       "  Time     CBS138 Rep1 Average CBS138 Rep2 Average BG2 Rep1 Average\n",
       "1 22.00000 0.9955988           1.012875            1.154725        \n",
       "2 22.33334 0.9945988           1.013125            1.155217        \n",
       "3 22.66667 0.9931988           1.012625            1.155567        \n",
       "4 23.00000 0.9919988           1.012500            1.155558        \n",
       "5 23.33334 1.0117500           1.011750            1.230187        \n",
       "6 23.66667 1.0112500           1.011250            1.232063        "
      ]
     },
     "metadata": {},
     "output_type": "display_data"
    },
    {
     "name": "stdout",
     "output_type": "stream",
     "text": [
      "               Column      AUC\n",
      "1 CBS138 Rep1 Average 17.24843\n",
      "2 CBS138 Rep2 Average 15.83786\n",
      "3    BG2 Rep1 Average 20.28257\n"
     ]
    }
   ],
   "source": [
    "#fix Na Values\n",
    "nafix_df <- read_excel('NaN_fix.xlsx')\n",
    "nafix_df <- nafix_df[nafix_df[[1]] != 24.00000, ]\n",
    "tail(nafix_df)\n",
    "# Assume first column is time\n",
    "time <- nafix_df[[1]]\n",
    "\n",
    "# Prepare results\n",
    "auc_results <- data.frame(Column = character(), AUC = numeric(), stringsAsFactors = FALSE)\n",
    "\n",
    "# Loop through numeric columns (excluding time)\n",
    "for (colname in names(nafix_df)[-1]) {\n",
    "  values <- nafix_df[[colname]]\n",
    "  if (is.numeric(values)) {\n",
    "    # Replace NA with 0 for integration\n",
    "    values[is.na(values)] <- 0\n",
    "    auc <- trapz(time, values)\n",
    "    auc_results <- rbind(auc_results, data.frame(Column = colname, AUC = auc))\n",
    "  }\n",
    "}\n",
    "\n",
    "print(auc_results)\n",
    "# I manually replpaced the NaN values in the growth_summary.csv file"
   ]
  }
 ],
 "metadata": {
  "kernelspec": {
   "display_name": "R",
   "language": "R",
   "name": "ir"
  },
  "language_info": {
   "codemirror_mode": "r",
   "file_extension": ".r",
   "mimetype": "text/x-r-source",
   "name": "R",
   "pygments_lexer": "r",
   "version": "4.5.1"
  }
 },
 "nbformat": 4,
 "nbformat_minor": 5
}
